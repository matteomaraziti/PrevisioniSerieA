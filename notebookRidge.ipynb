{
 "cells": [
  {
   "cell_type": "markdown",
   "metadata": {},
   "source": [
    "#### Import necessari"
   ]
  },
  {
   "cell_type": "code",
   "execution_count": 66,
   "metadata": {},
   "outputs": [],
   "source": [
    "from sklearn.linear_model import Lasso, Ridge\n",
    "import pandas as pd\n",
    "import numpy as np\n",
    "from sklearn.metrics import accuracy_score\n",
    "from sklearn.svm import SVC\n",
    "import random\n",
    "from sklearn.multiclass import OneVsOneClassifier"
   ]
  },
  {
   "cell_type": "markdown",
   "metadata": {},
   "source": [
    "#### Caricamento Dataset"
   ]
  },
  {
   "cell_type": "code",
   "execution_count": 67,
   "metadata": {},
   "outputs": [],
   "source": [
    "train1 = pd.read_json('dataset/Dataset20-21.json');\n",
    "train2 = pd.read_json('dataset/Dataset21-22.json');\n",
    "trainSet = pd.concat([train1, train2], ignore_index=True)\n",
    "validationSet = pd.read_json('dataset/Dataset22-23.json');\n",
    "testSet = pd.read_json('dataset/Dataset23-24.json');\n",
    "trainSet.loc[trainSet[\"risultato\"] == \"X\", \"risultato\"] = 3\n",
    "trainSet.loc[trainSet[\"risultato\"] == \"x\", \"risultato\"] = 3\n",
    "validationSet.loc[validationSet[\"risultato\"] == \"x\", \"risultato\"] = 3\n",
    "validationSet.loc[validationSet[\"risultato\"] == \"X\", \"risultato\"] = 3"
   ]
  },
  {
   "cell_type": "code",
   "execution_count": 68,
   "metadata": {},
   "outputs": [],
   "source": [
    "X_train = trainSet.drop(\"risultato\", axis=1)\n",
    "y_train = trainSet[\"risultato\"]\n",
    "\n",
    "X_validation = validationSet.drop(\"risultato\", axis=1)\n",
    "y_validation = validationSet[\"risultato\"]\n",
    "\n",
    "X_test = testSet.drop(\"risultato\", axis=1)\n",
    "y_test = testSet[\"risultato\"]\n",
    "\n",
    "X_train_noName = X_train\n",
    "X_train_noName = X_train_noName.drop(\"squadraa\", axis=1)\n",
    "X_train_noName = X_train_noName.drop(\"squadrab\", axis=1)\n",
    "X_train_noName = X_train_noName.astype(float)\n",
    "y_train=y_train.astype(float)\n",
    "\n",
    "X_validation_noName = X_validation\n",
    "X_validation_noName = X_validation_noName.drop(\"squadraa\", axis=1)\n",
    "X_validation_noName = X_validation_noName.drop(\"squadrab\", axis=1)\n",
    "X_validation_noName = X_validation_noName.astype(float)\n",
    "y_validation=y_validation.astype(float)\n",
    "\n",
    "X_test_noName = X_test\n",
    "X_test_noName = X_test_noName.drop(\"squadraa\", axis=1)\n",
    "X_test_noName = X_test_noName.drop(\"squadrab\", axis=1)\n",
    "X_test_noName = X_test_noName.astype(float)"
   ]
  },
  {
   "cell_type": "markdown",
   "metadata": {},
   "source": [
    "#### Ridge Regression"
   ]
  },
  {
   "cell_type": "code",
   "execution_count": 69,
   "metadata": {},
   "outputs": [],
   "source": [
    "ridge_model = Ridge(alpha=1.0)\n",
    "ridge_model.fit(X_train_noName, y_train)\n",
    "\n",
    "feature_coefficients = ridge_model.coef_\n",
    "abs_feature_coefficients = abs(feature_coefficients)\n",
    "selected_features = X_train_noName.columns[feature_coefficients != 0]"
   ]
  },
  {
   "cell_type": "code",
   "execution_count": 70,
   "metadata": {},
   "outputs": [
    {
     "name": "stdout",
     "output_type": "stream",
     "text": [
      "Feature Importance:\n",
      "                Feature  Coefficient\n",
      "6       avversarioa_xag     0.373977\n",
      "5        avversarioa_xg     0.319154\n",
      "2        squadraa_xgxag     0.306981\n",
      "13       squadrab_npzxg     0.290271\n",
      "18    avversariob_npzxg     0.288067\n",
      "0           squadraa_xg     0.262318\n",
      "16      avversariob_xag     0.252846\n",
      "14     squadrab_npxgxag     0.155243\n",
      "9   avversarioa_npxgxag     0.150656\n",
      "4      squadraa_npxgxag     0.130511\n",
      "8     avversarioa_npzxg     0.121233\n",
      "1          squadraa_xag     0.121066\n",
      "12       squadrab_xgxag     0.072652\n",
      "15       avversariob_xg     0.052531\n",
      "17    avversariob_xgxag     0.050819\n",
      "7     avversarioa_xgxag     0.047330\n",
      "3        squadraa_npzxg     0.028461\n",
      "11         squadrab_xag     0.023498\n",
      "10          squadrab_xg     0.014029\n",
      "19  avversariob_npxgxag     0.013296\n"
     ]
    }
   ],
   "source": [
    "feature_importance_df = pd.DataFrame({'Feature': X_train_noName.columns, 'Coefficient': abs_feature_coefficients})\n",
    "feature_importance_df = feature_importance_df.sort_values(by='Coefficient', ascending=False)\n",
    "\n",
    "print(\"Feature Importance:\")\n",
    "print(feature_importance_df)"
   ]
  },
  {
   "cell_type": "code",
   "execution_count": 71,
   "metadata": {},
   "outputs": [],
   "source": [
    "threshold = 0.1 \n",
    "selected_features = feature_importance_df[feature_importance_df['Coefficient'] > threshold]['Feature'].tolist()"
   ]
  },
  {
   "cell_type": "code",
   "execution_count": 72,
   "metadata": {},
   "outputs": [],
   "source": [
    "X_train_selected = X_train_noName[selected_features]\n",
    "X_validation_selected = X_validation_noName[selected_features]\n",
    "X_test_selected = X_test_noName[selected_features]"
   ]
  },
  {
   "cell_type": "code",
   "execution_count": 73,
   "metadata": {},
   "outputs": [
    {
     "name": "stdout",
     "output_type": "stream",
     "text": [
      "Best Hyperparameters: C = 3.127464736420431 , Kernel = rbf , Accuracy=  0.5356200527704486\n"
     ]
    }
   ],
   "source": [
    "def evaluate_model(C, kernel, X_train, y_train, X_validation, y_validation):\n",
    "    svm_model = SVC(C=C, kernel=kernel)\n",
    "    svm_model = OneVsOneClassifier(svm_model)\n",
    "    svm_model.fit(X_train, y_train)\n",
    "    y_pred = svm_model.predict(X_validation)\n",
    "    accuracy = accuracy_score(y_validation, y_pred)\n",
    "    return accuracy\n",
    "\n",
    "best_C = 1.0\n",
    "best_kernel = 'linear'\n",
    "best_accuracy = 0.0\n",
    "max_iterations = 2000\n",
    "\n",
    "mask = ~np.isnan(y_validation)\n",
    "y_validation = y_validation[mask]\n",
    "X_validation_selected = X_validation_selected[mask] #Rimozione righe con NaN Values\n",
    "\n",
    "\n",
    "for _ in range(max_iterations):\n",
    "    new_C = random.uniform(0.1, 10.0)\n",
    "    new_kernel = random.choice(['linear', 'rbf', 'poly', 'sigmoid'])\n",
    "    accuracy = evaluate_model(new_C, new_kernel, X_train_selected, y_train, X_validation_selected, y_validation)\n",
    "    if accuracy > best_accuracy:\n",
    "        best_C = new_C\n",
    "        best_kernel = new_kernel\n",
    "        best_accuracy = accuracy\n",
    "\n",
    "final_model = SVC(C=best_C, kernel=best_kernel)\n",
    "final_model.fit(X_train_selected, y_train)\n",
    "y_pred = final_model.predict(X_validation_selected)\n",
    "accuracy = accuracy_score(y_validation, y_pred)\n",
    "y_test_pred = final_model.predict(X_test_selected)\n",
    "print(\"Best Hyperparameters: C =\", best_C, \", Kernel =\", best_kernel, \", Accuracy= \", accuracy)"
   ]
  }
 ],
 "metadata": {
  "kernelspec": {
   "display_name": "Python 3",
   "language": "python",
   "name": "python3"
  },
  "language_info": {
   "codemirror_mode": {
    "name": "ipython",
    "version": 3
   },
   "file_extension": ".py",
   "mimetype": "text/x-python",
   "name": "python",
   "nbconvert_exporter": "python",
   "pygments_lexer": "ipython3",
   "version": "3.11.1"
  },
  "orig_nbformat": 4
 },
 "nbformat": 4,
 "nbformat_minor": 2
}
