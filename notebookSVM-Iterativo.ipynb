{
 "cells": [
  {
   "cell_type": "markdown",
   "metadata": {},
   "source": [
    "#### Import Necessari"
   ]
  },
  {
   "cell_type": "code",
   "execution_count": 11,
   "metadata": {},
   "outputs": [],
   "source": [
    "import pandas as pd\n",
    "from sklearn.svm import SVC\n",
    "from sklearn.metrics import accuracy_score\n",
    "import numpy as np\n",
    "import random\n",
    "from sklearn.multiclass import OneVsOneClassifier\n",
    "from sklearn.feature_selection import SelectKBest, f_regression\n",
    "from sklearn.metrics import accuracy_score, precision_score, recall_score"
   ]
  },
  {
   "cell_type": "markdown",
   "metadata": {},
   "source": [
    "#### Caricamento Dataset"
   ]
  },
  {
   "cell_type": "code",
   "execution_count": 12,
   "metadata": {},
   "outputs": [],
   "source": [
    "train1 = pd.read_json('dataset/Dataset20-21.json');\n",
    "train2 = pd.read_json('dataset/Dataset21-22.json');\n",
    "trainSet = pd.concat([train1, train2], ignore_index=True)\n",
    "validationSet = pd.read_json('dataset/Dataset22-23.json');\n",
    "testSet = pd.read_json('dataset/Dataset19-20.json');\n",
    "trainSet.loc[trainSet[\"risultato\"] == \"X\", \"risultato\"] = 3\n",
    "trainSet.loc[trainSet[\"risultato\"] == \"x\", \"risultato\"] = 3\n",
    "validationSet.loc[validationSet[\"risultato\"] == \"x\", \"risultato\"] = 3\n",
    "validationSet.loc[validationSet[\"risultato\"] == \"X\", \"risultato\"] = 3"
   ]
  },
  {
   "cell_type": "code",
   "execution_count": 13,
   "metadata": {},
   "outputs": [],
   "source": [
    "X_train = trainSet.drop(\"risultato\", axis=1)\n",
    "y_train = trainSet[\"risultato\"]\n",
    "\n",
    "X_validation = validationSet.drop(\"risultato\", axis=1)\n",
    "y_validation = validationSet[\"risultato\"]\n",
    "\n",
    "X_test = testSet.drop(\"risultato\", axis=1)\n",
    "y_test = testSet[\"risultato\"]\n"
   ]
  },
  {
   "cell_type": "code",
   "execution_count": 14,
   "metadata": {},
   "outputs": [],
   "source": [
    "X_train_noName = X_train\n",
    "X_train_noName = X_train_noName.drop(\"squadraa\", axis=1)\n",
    "X_train_noName = X_train_noName.drop(\"squadrab\", axis=1)\n",
    "X_train_noName = X_train_noName.astype(float)\n",
    "y_train=y_train.astype(float)\n",
    "\n",
    "X_validation_noName = X_validation\n",
    "X_validation_noName = X_validation_noName.drop(\"squadraa\", axis=1)\n",
    "X_validation_noName = X_validation_noName.drop(\"squadrab\", axis=1)\n",
    "X_validation_noName = X_validation_noName.astype(float)\n",
    "y_validation=y_validation.astype(float)\n",
    "\n",
    "X_test_noName = X_test\n",
    "X_test_noName = X_test_noName.drop(\"squadraa\", axis=1)\n",
    "X_test_noName = X_test_noName.drop(\"squadrab\", axis=1)\n",
    "X_test_noName = X_test_noName.astype(float)\n",
    "y_test=y_test.astype(float)\n",
    "\n",
    "\n"
   ]
  },
  {
   "cell_type": "markdown",
   "metadata": {},
   "source": [
    "#### Inizio Codice training"
   ]
  },
  {
   "cell_type": "code",
   "execution_count": 15,
   "metadata": {},
   "outputs": [
    {
     "name": "stdout",
     "output_type": "stream",
     "text": [
      "Best Hyperparameters: C = 0.9343323567026282 , Kernel = rbf\n",
      "Accuracy: 0.4921052631578947\n",
      "Precision: 0.6090720221606648\n",
      "Recall: 0.4921052631578947\n"
     ]
    }
   ],
   "source": [
    "selector = SelectKBest(f_regression, k=5)\n",
    "X_train_noName = selector.fit_transform(X_train_noName, y_train)\n",
    "X_validation_noName = selector.transform(X_validation_noName)\n",
    "X_test_noName = selector.transform(X_test_noName)\n",
    "\n",
    "def evaluate_model(C, kernel, X_train, y_train, X_validation, y_validation):\n",
    "    svm_model = SVC(C=C, kernel=kernel)\n",
    "    svm_model = OneVsOneClassifier(svm_model)\n",
    "    svm_model.fit(X_train, y_train)\n",
    "    y_pred = svm_model.predict(X_validation)\n",
    "    accuracy = accuracy_score(y_validation, y_pred)\n",
    "    return accuracy\n",
    "\n",
    "best_C = 1.0\n",
    "best_kernel = 'linear'\n",
    "best_accuracy = 0.0\n",
    "max_iterations = 50\n",
    "\n",
    "mask = ~np.isnan(y_validation)\n",
    "y_validation = y_validation[mask]\n",
    "X_validation_noName = X_validation_noName[mask] #Rimozione righe con NaN Values\n",
    "\n",
    "\n",
    "for _ in range(max_iterations):\n",
    "    new_C = random.uniform(0.1, 10.0)\n",
    "    new_kernel = random.choice(['linear', 'rbf', 'poly', 'sigmoid'])\n",
    "    accuracy = evaluate_model(new_C, new_kernel, X_train_noName, y_train, X_validation_noName, y_validation)\n",
    "    if accuracy > best_accuracy:\n",
    "        best_C = new_C\n",
    "        best_kernel = new_kernel\n",
    "        best_accuracy = accuracy\n",
    "\n",
    "final_model = SVC(C=best_C, kernel=best_kernel)\n",
    "final_model.fit(X_train_noName, y_train)\n",
    "y_pred_validation = final_model.predict(X_validation_noName)\n",
    "y_test_pred = final_model.predict(X_test_noName)\n",
    "\n",
    "accuracy_test = accuracy_score(y_test, y_test_pred)\n",
    "finalPrecision = precision_score(y_test, y_test_pred, average='weighted', zero_division=1)\n",
    "finalRecall = recall_score(y_test, y_test_pred, average='weighted', zero_division=1)\n",
    "print(\"Best Hyperparameters: C =\", best_C, \", Kernel =\", best_kernel)\n",
    "print(f\"Accuracy: {accuracy_test}\")\n",
    "print(f\"Precision: {finalPrecision}\")\n",
    "print(f\"Recall: {finalRecall}\")"
   ]
  }
 ],
 "metadata": {
  "kernelspec": {
   "display_name": "Python 3",
   "language": "python",
   "name": "python3"
  },
  "language_info": {
   "codemirror_mode": {
    "name": "ipython",
    "version": 3
   },
   "file_extension": ".py",
   "mimetype": "text/x-python",
   "name": "python",
   "nbconvert_exporter": "python",
   "pygments_lexer": "ipython3",
   "version": "3.11.1"
  },
  "orig_nbformat": 4
 },
 "nbformat": 4,
 "nbformat_minor": 2
}
