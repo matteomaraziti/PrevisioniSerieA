{
 "cells": [
  {
   "cell_type": "markdown",
   "metadata": {},
   "source": [
    "#### Import Necessari"
   ]
  },
  {
   "cell_type": "code",
   "execution_count": 49,
   "metadata": {},
   "outputs": [],
   "source": [
    "import pandas as pd\n",
    "from sklearn.model_selection import train_test_split\n",
    "from sklearn.preprocessing import StandardScaler\n",
    "from sklearn.svm import SVC\n",
    "from sklearn.metrics import accuracy_score, classification_report\n",
    "import numpy as np\n",
    "import random\n",
    "from sklearn.multiclass import OneVsOneClassifier"
   ]
  },
  {
   "cell_type": "markdown",
   "metadata": {},
   "source": [
    "#### Caricamento Dataset"
   ]
  },
  {
   "cell_type": "code",
   "execution_count": 50,
   "metadata": {},
   "outputs": [],
   "source": [
    "train1 = pd.read_json('dataset/Dataset20-21.json');\n",
    "train2 = pd.read_json('dataset/Dataset21-22.json');\n",
    "trainSet = pd.concat([train1, train2], ignore_index=True)\n",
    "validationSet = pd.read_json('dataset/Dataset22-23.json');\n",
    "testSet = pd.read_json('dataset/Dataset23-24.json');\n",
    "trainSet.loc[trainSet[\"risultato\"] == \"X\", \"risultato\"] = 3\n",
    "trainSet.loc[trainSet[\"risultato\"] == \"x\", \"risultato\"] = 3\n",
    "validationSet.loc[validationSet[\"risultato\"] == \"x\", \"risultato\"] = 3\n",
    "validationSet.loc[validationSet[\"risultato\"] == \"X\", \"risultato\"] = 3"
   ]
  },
  {
   "cell_type": "code",
   "execution_count": 51,
   "metadata": {},
   "outputs": [],
   "source": [
    "X_train = trainSet.drop(\"risultato\", axis=1)\n",
    "y_train = trainSet[\"risultato\"]\n",
    "\n",
    "X_validation = validationSet.drop(\"risultato\", axis=1)\n",
    "y_validation = validationSet[\"risultato\"]\n",
    "\n",
    "X_test = testSet.drop(\"risultato\", axis=1)\n",
    "y_test = testSet[\"risultato\"]\n"
   ]
  },
  {
   "cell_type": "code",
   "execution_count": 52,
   "metadata": {},
   "outputs": [],
   "source": [
    "X_train_noName = X_train\n",
    "X_train_noName = X_train_noName.drop(\"squadraa\", axis=1)\n",
    "X_train_noName = X_train_noName.drop(\"squadrab\", axis=1)\n",
    "X_train_noName = X_train_noName.astype(float)\n",
    "y_train=y_train.astype(float)\n",
    "\n",
    "X_validation_noName = X_validation\n",
    "X_validation_noName = X_validation_noName.drop(\"squadraa\", axis=1)\n",
    "X_validation_noName = X_validation_noName.drop(\"squadrab\", axis=1)\n",
    "X_validation_noName = X_validation_noName.astype(float)\n",
    "y_validation=y_validation.astype(float)\n",
    "\n",
    "X_test_noName = X_test\n",
    "X_test_noName = X_test_noName.drop(\"squadraa\", axis=1)\n",
    "X_test_noName = X_test_noName.drop(\"squadrab\", axis=1)\n",
    "X_test_noName = X_test_noName.astype(float)\n",
    "\n"
   ]
  },
  {
   "cell_type": "markdown",
   "metadata": {},
   "source": [
    "#### Inizio Codice training"
   ]
  },
  {
   "cell_type": "code",
   "execution_count": 53,
   "metadata": {},
   "outputs": [
    {
     "name": "stdout",
     "output_type": "stream",
     "text": [
      "Best Hyperparameters: C = 1.0913863053091735 , Kernel = linear , Accuracy=  0.5382585751978892\n"
     ]
    }
   ],
   "source": [
    "def evaluate_model(C, kernel, X_train, y_train, X_validation, y_validation):\n",
    "    svm_model = SVC(C=C, kernel=kernel)\n",
    "    svm_model = OneVsOneClassifier(svm_model)\n",
    "    svm_model.fit(X_train, y_train)\n",
    "    y_pred = svm_model.predict(X_validation)\n",
    "    accuracy = accuracy_score(y_validation, y_pred)\n",
    "    return accuracy\n",
    "\n",
    "best_C = 1.0\n",
    "best_kernel = 'linear'\n",
    "best_accuracy = 0.0\n",
    "max_iterations = 400\n",
    "\n",
    "mask = ~np.isnan(y_validation)\n",
    "y_validation = y_validation[mask]\n",
    "X_validation_noName = X_validation_noName[mask] #Rimozione righe con NaN Values\n",
    "\n",
    "\n",
    "for _ in range(max_iterations):\n",
    "    new_C = random.uniform(0.1, 10.0)\n",
    "    new_kernel = random.choice(['linear', 'rbf', 'poly'])\n",
    "    accuracy = evaluate_model(new_C, new_kernel, X_train_noName, y_train, X_validation_noName, y_validation)\n",
    "    if accuracy > best_accuracy:\n",
    "        best_C = new_C\n",
    "        best_kernel = new_kernel\n",
    "        best_accuracy = accuracy\n",
    "\n",
    "final_model = SVC(C=best_C, kernel=best_kernel)\n",
    "final_model.fit(X_train_noName, y_train)\n",
    "y_test_pred = final_model.predict(X_test_noName)\n",
    "print(\"Best Hyperparameters: C =\", best_C, \", Kernel =\", best_kernel, \", Accuracy= \", best_accuracy)"
   ]
  },
  {
   "cell_type": "code",
   "execution_count": 54,
   "metadata": {},
   "outputs": [],
   "source": [
    "y_test_pred=y_test_pred.astype(int)\n",
    "testSet['risultato']=y_test_pred\n",
    "#testSet.to_csv('dataset/results.csv')"
   ]
  }
 ],
 "metadata": {
  "kernelspec": {
   "display_name": "Python 3",
   "language": "python",
   "name": "python3"
  },
  "language_info": {
   "codemirror_mode": {
    "name": "ipython",
    "version": 3
   },
   "file_extension": ".py",
   "mimetype": "text/x-python",
   "name": "python",
   "nbconvert_exporter": "python",
   "pygments_lexer": "ipython3",
   "version": "3.11.1"
  },
  "orig_nbformat": 4
 },
 "nbformat": 4,
 "nbformat_minor": 2
}
