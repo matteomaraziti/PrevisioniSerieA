{
 "cells": [
  {
   "cell_type": "markdown",
   "metadata": {},
   "source": [
    "#### Import Necessari"
   ]
  },
  {
   "cell_type": "code",
   "execution_count": 1,
   "metadata": {},
   "outputs": [],
   "source": [
    "import pandas as pd\n",
    "from sklearn.svm import SVC\n",
    "from sklearn.metrics import accuracy_score\n",
    "import numpy as np\n",
    "from sklearn.ensemble import RandomForestClassifier\n"
   ]
  },
  {
   "cell_type": "markdown",
   "metadata": {},
   "source": [
    "#### Caricamento Dataset"
   ]
  },
  {
   "cell_type": "code",
   "execution_count": 2,
   "metadata": {},
   "outputs": [],
   "source": [
    "train1 = pd.read_json('dataset/Dataset20-21.json');\n",
    "train2 = pd.read_json('dataset/Dataset21-22.json');\n",
    "trainSet = pd.concat([train1, train2], ignore_index=True)\n",
    "validationSet = pd.read_json('dataset/Dataset22-23.json');\n",
    "testSet = pd.read_json('dataset/Dataset19-20.json');\n",
    "trainSet.loc[trainSet[\"risultato\"] == \"X\", \"risultato\"] = 3\n",
    "trainSet.loc[trainSet[\"risultato\"] == \"x\", \"risultato\"] = 3\n",
    "validationSet.loc[validationSet[\"risultato\"] == \"x\", \"risultato\"] = 3\n",
    "validationSet.loc[validationSet[\"risultato\"] == \"X\", \"risultato\"] = 3"
   ]
  },
  {
   "cell_type": "code",
   "execution_count": 3,
   "metadata": {},
   "outputs": [],
   "source": [
    "X_train = trainSet.drop(\"risultato\", axis=1)\n",
    "y_train = trainSet[\"risultato\"]\n",
    "\n",
    "X_validation = validationSet.drop(\"risultato\", axis=1)\n",
    "y_validation = validationSet[\"risultato\"]\n",
    "\n",
    "X_test = testSet.drop(\"risultato\", axis=1)\n",
    "y_test = testSet[\"risultato\"]\n"
   ]
  },
  {
   "cell_type": "code",
   "execution_count": 4,
   "metadata": {},
   "outputs": [],
   "source": [
    "X_train_noName = X_train\n",
    "X_train_noName = X_train_noName.drop(\"squadraa\", axis=1)\n",
    "X_train_noName = X_train_noName.drop(\"squadrab\", axis=1)\n",
    "X_train_noName = X_train_noName.astype(float)\n",
    "y_train=y_train.astype(float)\n",
    "\n",
    "X_validation_noName = X_validation\n",
    "X_validation_noName = X_validation_noName.drop(\"squadraa\", axis=1)\n",
    "X_validation_noName = X_validation_noName.drop(\"squadrab\", axis=1)\n",
    "X_validation_noName = X_validation_noName.astype(float)\n",
    "y_validation=y_validation.astype(float)\n",
    "\n",
    "X_test_noName = X_test\n",
    "X_test_noName = X_test_noName.drop(\"squadraa\", axis=1)\n",
    "X_test_noName = X_test_noName.drop(\"squadrab\", axis=1)\n",
    "X_test_noName = X_test_noName.astype(float)\n",
    "y_test=y_test.astype(float)\n",
    "\n",
    "\n"
   ]
  },
  {
   "cell_type": "markdown",
   "metadata": {},
   "source": [
    "#### Inizio Codice training"
   ]
  },
  {
   "cell_type": "code",
   "execution_count": 5,
   "metadata": {},
   "outputs": [
    {
     "name": "stdout",
     "output_type": "stream",
     "text": [
      "Best Hyperparameters: n_estimators = 52 , max_depth = 80\n",
      "Accuracy on Test Data: 0.5263157894736842\n"
     ]
    }
   ],
   "source": [
    "def evaluate_model(n_estimators, max_depth, X_train, y_train, X_validation, y_validation):\n",
    "    rf_model = RandomForestClassifier(n_estimators=n_estimators, max_depth=max_depth, random_state=42)\n",
    "    rf_model.fit(X_train, y_train)\n",
    "    y_pred = rf_model.predict(X_validation)\n",
    "    accuracy = accuracy_score(y_validation, y_pred)\n",
    "    return accuracy\n",
    "\n",
    "best_n_estimators = 100\n",
    "best_max_depth = None  # Non specificare una profondità massima iniziale\n",
    "best_accuracy = 0.0\n",
    "max_iterations = 50\n",
    "\n",
    "mask = ~np.isnan(y_validation)\n",
    "y_validation = y_validation[mask]\n",
    "X_validation_noName = X_validation_noName[mask] # Rimozione righe con NaN Values\n",
    "\n",
    "\n",
    "for _ in range(max_iterations):\n",
    "    # Genera nuovi iperparametri casuali\n",
    "    new_n_estimators = np.random.randint(50, 201)\n",
    "    new_max_depth = np.random.choice([None, 10, 20, 30, 40, 50, 60, 70, 80, 90, 100])\n",
    "\n",
    "    # Valuta il modello con i nuovi iperparametri\n",
    "    accuracy = evaluate_model(new_n_estimators, new_max_depth, X_train_noName, y_train, X_validation_noName, y_validation)\n",
    "\n",
    "    # Verifica se abbiamo trovato iperparametri migliori\n",
    "    if accuracy > best_accuracy:\n",
    "        best_n_estimators = new_n_estimators\n",
    "        best_max_depth = new_max_depth\n",
    "        best_accuracy = accuracy\n",
    "\n",
    "final_model = RandomForestClassifier(n_estimators=best_n_estimators, max_depth=best_max_depth, random_state=42)\n",
    "final_model.fit(X_train_noName, y_train)\n",
    "y_pred_validation = final_model.predict(X_validation_noName)\n",
    "y_test_pred = final_model.predict(X_test_noName)\n",
    "accuracy_test = accuracy_score(y_test, y_test_pred)\n",
    "\n",
    "print(\"Best Hyperparameters: n_estimators =\", best_n_estimators, \", max_depth =\", best_max_depth)\n",
    "print(f\"Accuracy on Test Data: {accuracy_test}\")\n"
   ]
  }
 ],
 "metadata": {
  "kernelspec": {
   "display_name": "Python 3",
   "language": "python",
   "name": "python3"
  },
  "language_info": {
   "codemirror_mode": {
    "name": "ipython",
    "version": 3
   },
   "file_extension": ".py",
   "mimetype": "text/x-python",
   "name": "python",
   "nbconvert_exporter": "python",
   "pygments_lexer": "ipython3",
   "version": "3.11.1"
  },
  "orig_nbformat": 4
 },
 "nbformat": 4,
 "nbformat_minor": 2
}
