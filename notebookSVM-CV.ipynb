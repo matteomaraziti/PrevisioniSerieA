{
 "cells": [
  {
   "cell_type": "markdown",
   "metadata": {},
   "source": [
    "#### Import Necessari"
   ]
  },
  {
   "cell_type": "code",
   "execution_count": 7,
   "metadata": {},
   "outputs": [],
   "source": [
    "import numpy as np\n",
    "import pandas as pd\n",
    "from sklearn.svm import SVC\n",
    "from sklearn.model_selection import cross_val_score\n",
    "from sklearn.multiclass import OneVsOneClassifier\n",
    "from sklearn.metrics import accuracy_score\n",
    "from sklearn.metrics import precision_score, recall_score"
   ]
  },
  {
   "cell_type": "markdown",
   "metadata": {},
   "source": [
    "#### Caricamento Dataset"
   ]
  },
  {
   "cell_type": "code",
   "execution_count": 8,
   "metadata": {},
   "outputs": [],
   "source": [
    "train1 = pd.read_json('dataset/Dataset20-21.json');\n",
    "train2 = pd.read_json('dataset/Dataset21-22.json');\n",
    "trainSet = pd.concat([train1, train2], ignore_index=True)\n",
    "validationSet = pd.read_json('dataset/Dataset22-23.json');\n",
    "testSet = pd.read_json('dataset/Dataset19-20.json');\n",
    "trainSet.loc[trainSet[\"risultato\"] == \"X\", \"risultato\"] = 3\n",
    "trainSet.loc[trainSet[\"risultato\"] == \"x\", \"risultato\"] = 3\n",
    "validationSet.loc[validationSet[\"risultato\"] == \"x\", \"risultato\"] = 3\n",
    "validationSet.loc[validationSet[\"risultato\"] == \"X\", \"risultato\"] = 3"
   ]
  },
  {
   "cell_type": "code",
   "execution_count": 9,
   "metadata": {},
   "outputs": [],
   "source": [
    "combined_data = pd.concat([trainSet, validationSet], axis=0, ignore_index=True)"
   ]
  },
  {
   "cell_type": "code",
   "execution_count": 10,
   "metadata": {},
   "outputs": [],
   "source": [
    "X_combined = combined_data.drop(\"risultato\", axis=1)\n",
    "y_combined = combined_data[\"risultato\"]\n",
    "\n",
    "X_test = testSet.drop(\"risultato\", axis=1)\n",
    "y_test = testSet[\"risultato\"]"
   ]
  },
  {
   "cell_type": "code",
   "execution_count": 11,
   "metadata": {},
   "outputs": [],
   "source": [
    "X_combined_noName = X_combined\n",
    "X_combined_noName = X_combined_noName.drop(\"squadraa\", axis=1)\n",
    "X_combined_noName = X_combined_noName.drop(\"squadrab\", axis=1)\n",
    "X_combined_noName = X_combined_noName.astype(float)\n",
    "y_combined=y_combined.astype(float)\n",
    "\n",
    "X_test_noName = X_test\n",
    "X_test_noName = X_test_noName.drop(\"squadraa\", axis=1)\n",
    "X_test_noName = X_test_noName.drop(\"squadrab\", axis=1)\n",
    "X_test_noName = X_test_noName.astype(float)\n",
    "#y_combined=y_combined.astype(float)"
   ]
  },
  {
   "cell_type": "code",
   "execution_count": null,
   "metadata": {},
   "outputs": [],
   "source": []
  },
  {
   "cell_type": "markdown",
   "metadata": {},
   "source": [
    "#### Inizio Codice training"
   ]
  },
  {
   "cell_type": "code",
   "execution_count": 12,
   "metadata": {},
   "outputs": [],
   "source": [
    "svm_classifier = SVC(kernel='rbf') # OvO per la classificazione multiclasse\n",
    "svm_classifier = OneVsOneClassifier(svm_classifier)"
   ]
  },
  {
   "cell_type": "code",
   "execution_count": 13,
   "metadata": {},
   "outputs": [],
   "source": [
    "mask = ~np.isnan(y_combined)\n",
    "y_combined = y_combined[mask]\n",
    "X_combined_noName = X_combined_noName[mask] #Rimozione righe con NaN Values\n",
    "\n",
    "from sklearn.feature_selection import SelectKBest, f_regression\n",
    "selector = SelectKBest(f_regression, k=5)\n",
    "X_combined_noName = selector.fit_transform(X_combined_noName, y_combined)\n",
    "X_test_noName = selector.transform(X_test_noName)\n",
    "\n",
    "\n",
    "cross_val_scores = cross_val_score(svm_classifier, X_combined_noName, y_combined, cv=10, scoring='accuracy')"
   ]
  },
  {
   "cell_type": "code",
   "execution_count": 14,
   "metadata": {},
   "outputs": [
    {
     "name": "stdout",
     "output_type": "stream",
     "text": [
      "Accuracy: 0.4842105263157895\n",
      "Accuratezza media della cross-validation: 0.49688712932774404\n",
      "Precision: 0.6039770478828651\n",
      "Recall: 0.4842105263157895\n"
     ]
    }
   ],
   "source": [
    "svm_classifier.fit(X_combined_noName, y_combined)\n",
    "y_pred_test = svm_classifier.predict(X_test_noName)\n",
    "accuracy_test = accuracy_score(y_test, y_pred_test)\n",
    "finalPrecision = precision_score(y_test, y_pred_test, average='weighted', zero_division=1)\n",
    "finalRecall = recall_score(y_test, y_pred_test, average='weighted', zero_division=1)\n",
    "print(f\"Accuracy: {accuracy_test}\")\n",
    "print(\"Accuratezza media della cross-validation:\", cross_val_scores.mean())\n",
    "print(f\"Precision: {finalPrecision}\")\n",
    "print(f\"Recall: {finalRecall}\")\n"
   ]
  }
 ],
 "metadata": {
  "kernelspec": {
   "display_name": "Python 3",
   "language": "python",
   "name": "python3"
  },
  "language_info": {
   "codemirror_mode": {
    "name": "ipython",
    "version": 3
   },
   "file_extension": ".py",
   "mimetype": "text/x-python",
   "name": "python",
   "nbconvert_exporter": "python",
   "pygments_lexer": "ipython3",
   "version": "3.11.1"
  },
  "orig_nbformat": 4
 },
 "nbformat": 4,
 "nbformat_minor": 2
}
